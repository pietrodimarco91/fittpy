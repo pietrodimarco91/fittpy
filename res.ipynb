{
 "cells": [
  {
   "cell_type": "code",
   "execution_count": 55,
   "metadata": {
    "collapsed": false
   },
   "outputs": [
    {
     "name": "stdout",
     "output_type": "stream",
     "text": [
      "<class 'pandas.core.frame.DataFrame'>\nInt64Index: 6 entries, 0 to 5\nData columns (total 22 columns):\ndist    6 non-null float64\namp     6 non-null float64\n1_x     6 non-null int64\n2_x     6 non-null int64\n3_x     6 non-null int64\n4_x     6 non-null int64\n5_x     6 non-null int64\n6_x     6 non-null int64\n7_x     6 non-null int64\n8_x     6 non-null int64\n9_x     6 non-null int64\nid_x    6 non-null int64\n1_y     6 non-null int64\n2_y     6 non-null int64\n3_y     6 non-null int64\n4_y     6 non-null int64\n5_y     6 non-null int64\n6_y     6 non-null int64\n7_y     6 non-null int64\n8_y     6 non-null int64\n9_y     6 non-null int64\nid_y    6 non-null int64\ndtypes: float64(2), int64(20)\nmemory usage: 1.1 KB\n"
     ]
    }
   ],
   "source": [
    "import numpy as np\n",
    "import pandas as pan\n",
    "from sklearn import linear_model\n",
    "import matplotlib.pyplot as plt\n",
    "from bokeh.plotting import figure, output_file, show\n",
    "import math\n",
    "\n",
    "\n",
    "# Load the diabetes dataset\n",
    "head_bias = ['dist', 'amp','1', '2', '3', '4', '5', '6', '7', '8', '9', 'id']\n",
    "head_bias1 = ['dist', 'amp','1', '2', '3', '4', '5', '6', '7', '8', '9', 'id']\n",
    "res = pan.read_csv(\"/Users/pietrodimarco/IdeaProjects/fittpy/results.csv\",names=head_bias)\n",
    "res2 = pan.read_csv(\"/Users/pietrodimarco/IdeaProjects/fittpy/results2.csv\",names=head_bias1)\n",
    "result = pan.merge(res, res2, on=['dist', 'amp'])\n",
    "result.info()\n"
   ]
  },
  {
   "cell_type": "code",
   "execution_count": 56,
   "metadata": {
    "collapsed": false
   },
   "outputs": [],
   "source": [
    "\n",
    "result=result.drop(['id_x','id_y'],axis=1)\n",
    "result=result.assign(id = lambda x: np.log(x.dist/x.amp+1))"
   ]
  },
  {
   "cell_type": "code",
   "execution_count": 57,
   "metadata": {
    "collapsed": true
   },
   "outputs": [
    {
     "name": "stdout",
     "output_type": "stream",
     "text": [
      "[ 3.71357207  3.71357207  3.71357207  3.71357207  3.71357207  3.71357207\n  3.71357207  3.71357207  3.71357207  3.71357207  3.71357207  3.71357207\n  3.71357207  3.71357207  3.71357207  3.71357207  3.71357207  3.71357207\n  3.04452244  3.04452244  3.04452244  3.04452244  3.04452244  3.04452244\n  3.04452244  3.04452244  3.04452244  3.04452244  3.04452244  3.04452244\n  3.04452244  3.04452244  3.04452244  3.04452244  3.04452244  3.04452244\n  2.83321334  2.83321334  2.83321334  2.83321334  2.83321334  2.83321334\n  2.83321334  2.83321334  2.83321334  2.83321334  2.83321334  2.83321334\n  2.83321334  2.83321334  2.83321334  2.83321334  2.83321334  2.83321334\n  2.19722458  2.19722458  2.19722458  2.19722458  2.19722458  2.19722458\n  2.19722458  2.19722458  2.19722458  2.19722458  2.19722458  2.19722458\n  2.19722458  2.19722458  2.19722458  2.19722458  2.19722458  2.19722458\n  3.93182563  3.93182563  3.93182563  3.93182563  3.93182563  3.93182563\n  3.93182563  3.93182563  3.93182563  3.93182563  3.93182563  3.93182563\n  3.93182563  3.93182563  3.93182563  3.93182563  3.93182563  3.93182563\n  3.04452244  3.04452244  3.04452244  3.04452244  3.04452244  3.04452244\n  3.04452244  3.04452244  3.04452244  3.04452244  3.04452244  3.04452244\n  3.04452244  3.04452244  3.04452244  3.04452244  3.04452244  3.04452244]\n[ 0.01   1.07   0.9    1.242  0.762  1.363  1.386  1.029  1.079  1.929\n  0.915  0.713  0.843  0.932  0.877  0.955  0.916  0.949  0.025  1.988\n  0.892  0.795  0.779  1.021  1.137  0.956  0.737  1.322  0.843  0.941\n  0.835  1.329  0.932  0.827  0.86   0.607  0.025  0.721  0.552  0.648\n  0.651  0.914  0.753  1.151  0.925  0.608  0.689  0.6    0.679  0.641\n  0.615  0.778  0.916  0.948  0.025  0.486  0.699  0.558  0.942  1.021\n  0.683  1.002  0.576  0.949  0.527  0.665  0.471  0.946  0.721  0.535\n  0.705  0.632  0.01   0.965  1.56   1.635  0.991  1.499  1.136  0.997\n  0.925  1.224  0.997  1.126  1.038  1.022  1.207  0.916  0.996  1.183\n  0.01   0.852  0.982  1.079  0.632  1.16   0.916  0.917  0.65   0.664\n  1.053  1.005  0.55   0.722  1.183  0.657  0.632  1.013]\n"
     ]
    }
   ],
   "source": [
    "from collections import defaultdict\n",
    "trainX=list()\n",
    "trainY=list()\n",
    "avgThr=list()\n",
    "for row in result.itertuples():\n",
    "    sum=0\n",
    "    for i in range(2, len(row)-2):\n",
    "        sum+=row[len(row)-1]/(row[i]/1000)\n",
    "        trainY.append(row[i]/1000)\n",
    "        trainX.append(row[len(row)-1])\n",
    "    avgThr.append(sum/18)\n",
    "            \n",
    "trainY = np.asarray(trainY)\n",
    "trainX = np.asarray(trainX)\n",
    "\n",
    "print(trainX)\n",
    "print(trainY)\n"
   ]
  },
  {
   "cell_type": "code",
   "execution_count": 58,
   "metadata": {
    "collapsed": false
   },
   "outputs": [
    {
     "data": {
      "text/html": [
       "<div>\n",
       "<style>\n",
       "    .dataframe thead tr:only-child th {\n",
       "        text-align: right;\n",
       "    }\n",
       "\n",
       "    .dataframe thead th {\n",
       "        text-align: left;\n",
       "    }\n",
       "\n",
       "    .dataframe tbody tr th {\n",
       "        vertical-align: top;\n",
       "    }\n",
       "</style>\n",
       "<table border=\"1\" class=\"dataframe\">\n",
       "  <thead>\n",
       "    <tr style=\"text-align: right;\">\n",
       "      <th></th>\n",
       "      <th>id</th>\n",
       "      <th>avgThr</th>\n",
       "    </tr>\n",
       "  </thead>\n",
       "  <tbody>\n",
       "    <tr>\n",
       "      <th>0</th>\n",
       "      <td>3.713572</td>\n",
       "      <td>24.163553</td>\n",
       "    </tr>\n",
       "    <tr>\n",
       "      <th>1</th>\n",
       "      <td>3.044522</td>\n",
       "      <td>9.890516</td>\n",
       "    </tr>\n",
       "    <tr>\n",
       "      <th>2</th>\n",
       "      <td>2.833213</td>\n",
       "      <td>9.995480</td>\n",
       "    </tr>\n",
       "    <tr>\n",
       "      <th>3</th>\n",
       "      <td>2.197225</td>\n",
       "      <td>7.984676</td>\n",
       "    </tr>\n",
       "    <tr>\n",
       "      <th>4</th>\n",
       "      <td>3.931826</td>\n",
       "      <td>25.196225</td>\n",
       "    </tr>\n",
       "    <tr>\n",
       "      <th>5</th>\n",
       "      <td>3.044522</td>\n",
       "      <td>20.444748</td>\n",
       "    </tr>\n",
       "  </tbody>\n",
       "</table>\n",
       "</div>"
      ],
      "text/plain": [
       "<div>\n",
       "<style>\n",
       "    .dataframe thead tr:only-child th {\n",
       "        text-align: right;\n",
       "    }\n",
       "\n",
       "    .dataframe thead th {\n",
       "        text-align: left;\n",
       "    }\n",
       "\n",
       "    .dataframe tbody tr th {\n",
       "        vertical-align: top;\n",
       "    }\n",
       "</style>\n",
       "<table border=\"1\" class=\"dataframe\">\n",
       "  <thead>\n",
       "    <tr style=\"text-align: right;\">\n",
       "      <th></th>\n",
       "      <th>id</th>\n",
       "      <th>avgThr</th>\n",
       "    </tr>\n",
       "  </thead>\n",
       "  <tbody>\n",
       "    <tr>\n",
       "      <th>0</th>\n",
       "      <td>3.713572</td>\n",
       "      <td>24.163553</td>\n",
       "    </tr>\n",
       "    <tr>\n",
       "      <th>1</th>\n",
       "      <td>3.044522</td>\n",
       "      <td>9.890516</td>\n",
       "    </tr>\n",
       "    <tr>\n",
       "      <th>2</th>\n",
       "      <td>2.833213</td>\n",
       "      <td>9.995480</td>\n",
       "    </tr>\n",
       "    <tr>\n",
       "      <th>3</th>\n",
       "      <td>2.197225</td>\n",
       "      <td>7.984676</td>\n",
       "    </tr>\n",
       "    <tr>\n",
       "      <th>4</th>\n",
       "      <td>3.931826</td>\n",
       "      <td>25.196225</td>\n",
       "    </tr>\n",
       "    <tr>\n",
       "      <th>5</th>\n",
       "      <td>3.044522</td>\n",
       "      <td>20.444748</td>\n",
       "    </tr>\n",
       "  </tbody>\n",
       "</table>\n",
       "</div>"
      ]
     },
     "execution_count": 58,
     "metadata": {},
     "output_type": "execute_result"
    }
   ],
   "source": [
    "regr = linear_model.LinearRegression()\n",
    "regr.fit(trainX.reshape(108,1),trainY.reshape(108,1))\n",
    "mean=pan.DataFrame(columns=['id','avgThr'])\n",
    "for first,second in zip(avgThr,result['id']):\n",
    "    mean.loc[len(mean)]=[second,first]\n",
    "mean"
   ]
  },
  {
   "cell_type": "code",
   "execution_count": 59,
   "metadata": {},
   "outputs": [],
   "source": [
    "\n",
    "mean_dic = defaultdict(list)\n",
    "for row in mean.itertuples():\n",
    "    mean_dic[row[1]].append(row[2])"
   ]
  },
  {
   "cell_type": "code",
   "execution_count": 60,
   "metadata": {
    "collapsed": true
   },
   "outputs": [
    {
     "name": "stdout",
     "output_type": "stream",
     "text": [
      "Coefficient:  [[ 0.23910331]]\nintercept:  [ 0.12032953]\n"
     ]
    }
   ],
   "source": [
    "pred = regr.predict(trainX.reshape(108,1))\n",
    "print('Coefficient: ',regr.coef_)\n",
    "print('intercept: ',regr.intercept_)"
   ]
  },
  {
   "cell_type": "code",
   "execution_count": 61,
   "metadata": {
    "collapsed": false
   },
   "outputs": [
    {
     "data": {
      "text/html": [
       "<iframe id=\"igraph\" scrolling=\"no\" style=\"border:none;\" seamless=\"seamless\" src=\"https://plot.ly/~pietrodimarco/2.embed\" height=\"525px\" width=\"100%\"></iframe>"
      ],
      "text/plain": [
       "<iframe id=\"igraph\" scrolling=\"no\" style=\"border:none;\" seamless=\"seamless\" src=\"https://plot.ly/~pietrodimarco/2.embed\" height=\"525px\" width=\"100%\"></iframe>"
      ]
     },
     "execution_count": 61,
     "metadata": {},
     "output_type": "execute_result"
    }
   ],
   "source": [
    "import plotly\n",
    "import plotly.plotly as py\n",
    "import plotly.graph_objs as go\n",
    "plotly.tools.set_credentials_file(username='pietrodimarco', api_key='sKrtjrFshiLPUvAGKx8Q')\n",
    "\n",
    "# Create a trace\n",
    "trace = go.Scatter(\n",
    "    x = trainX,\n",
    "    y = trainY,\n",
    "    mode = 'markers',\n",
    "    name='Collected value'\n",
    ")\n",
    "trace1 = go.Scatter(\n",
    "    x = trainX,\n",
    "    y = pred,\n",
    "    name='Regression line'\n",
    ")\n",
    "\n",
    "data = [trace,trace1]\n",
    "\n",
    "layout = go.Layout(\n",
    "    xaxis=dict(\n",
    "        title='ID',\n",
    "        titlefont=dict(\n",
    "            family='Arial, sans-serif',\n",
    "            size=18,\n",
    "            color='lightgrey'\n",
    "        ),\n",
    "        tickfont=dict(\n",
    "            size=14,\n",
    "            color='white'\n",
    "        ),\n",
    "        showticklabels=True,\n",
    "        tickangle=45,\n",
    "        showexponent='All'\n",
    "    ),\n",
    "    yaxis=dict(\n",
    "        title='MovementTime',\n",
    "        titlefont=dict(\n",
    "            family='Arial, sans-serif',\n",
    "            size=18,\n",
    "            color='lightgrey'\n",
    "        ),\n",
    "        tickfont=dict(\n",
    "            size=14,\n",
    "            color='white'\n",
    "        ),\n",
    "        showticklabels=True,\n",
    "        tickangle=45,\n",
    "        showexponent='All'\n",
    "    ),\n",
    "    \n",
    "    barmode='group',\n",
    "    bargroupgap=0.01,\n",
    ")\n",
    "\n",
    "fig = go.Figure(data=data, layout=layout)\n",
    "py.iplot(fig, filename='grouped-bar')"
   ]
  },
  {
   "cell_type": "code",
   "execution_count": 67,
   "metadata": {},
   "outputs": [
    {
     "data": {
      "text/html": [
       "<iframe id=\"igraph\" scrolling=\"no\" style=\"border:none;\" seamless=\"seamless\" src=\"https://plot.ly/~pietrodimarco/2.embed\" height=\"525px\" width=\"100%\"></iframe>"
      ],
      "text/plain": [
       "<iframe id=\"igraph\" scrolling=\"no\" style=\"border:none;\" seamless=\"seamless\" src=\"https://plot.ly/~pietrodimarco/2.embed\" height=\"525px\" width=\"100%\"></iframe>"
      ]
     },
     "execution_count": 67,
     "metadata": {},
     "output_type": "execute_result"
    }
   ],
   "source": [
    "\n",
    "l=list()\n",
    "i=0\n",
    "for row in mean.itertuples():\n",
    "    l.append(go.Bar(x=row[1],y=row[2],text=row[2],textposition = 'auto',name=['test: '+str(i)],width = [0.1]))\n",
    "    i+=1\n",
    "\n",
    "\n",
    "data = l\n",
    "layout = go.Layout(\n",
    "    xaxis=dict(\n",
    "        title='ID',\n",
    "        titlefont=dict(\n",
    "            family='Arial, sans-serif',\n",
    "            size=18,\n",
    "            color='lightgrey'\n",
    "        ),\n",
    "        tickfont=dict(\n",
    "            size=14,\n",
    "            color='white'\n",
    "        ),\n",
    "        showticklabels=True,\n",
    "        tickangle=45,\n",
    "        showexponent='All'\n",
    "    ),\n",
    "    yaxis=dict(\n",
    "        title='Throughput',\n",
    "        titlefont=dict(\n",
    "            family='Arial, sans-serif',\n",
    "            size=18,\n",
    "            color='lightgrey'\n",
    "        ),\n",
    "        tickfont=dict(\n",
    "            size=14,\n",
    "            color='white'\n",
    "        ),\n",
    "        showticklabels=True,\n",
    "        tickangle=45,\n",
    "        showexponent='All'\n",
    "    ),\n",
    "    barmode='group',\n",
    ")\n",
    "\n",
    "fig = go.Figure(data=data, layout=layout)\n",
    "py.iplot(fig, filename='grouped-bar')"
   ]
  }
 ],
 "metadata": {
  "kernelspec": {
   "display_name": "Python 2",
   "language": "python",
   "name": "python2"
  },
  "language_info": {
   "codemirror_mode": {
    "name": "ipython",
    "version": 2
   },
   "file_extension": ".py",
   "mimetype": "text/x-python",
   "name": "python",
   "nbconvert_exporter": "python",
   "pygments_lexer": "ipython2",
   "version": "2.7.6"
  }
 },
 "nbformat": 4,
 "nbformat_minor": 0
}
